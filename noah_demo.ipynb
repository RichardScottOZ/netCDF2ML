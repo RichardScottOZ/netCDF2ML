{
 "cells": [
  {
   "cell_type": "markdown",
   "metadata": {},
   "source": [
    "# Re-creation of Noah Brenowitz's Blog Post"
   ]
  },
  {
   "cell_type": "markdown",
   "metadata": {},
   "source": [
    "Full blog located here: https://www.noahbrenowitz.com/post/loading_netcdfs/\n",
    "\n",
    "Noah's github is here: https://github.com/nbren12\n",
    "\n",
    "All of the original work is from the blog above, minor changes are mine. No warranty implied or given. Reccomend reading the blog post first."
   ]
  },
  {
   "cell_type": "code",
   "execution_count": 1,
   "metadata": {},
   "outputs": [
    {
     "name": "stdout",
     "output_type": "stream",
     "text": [
      "Tensorflow: 2.9.1\n",
      "Xarray: 0.20.1\n",
      "netCDF4: 1.5.7\n"
     ]
    }
   ],
   "source": [
    "import numpy\n",
    "import netCDF4 as nc\n",
    "import xarray\n",
    "import tensorflow_datasets as tfds\n",
    "import tensorflow as tf\n",
    "import os\n",
    "import shutil\n",
    "import glob\n",
    "import plotly.express as px\n",
    "\n",
    "import matplotlib.pyplot as plt\n",
    "import pandas as pd\n",
    "\n",
    "\n",
    "print(\"Tensorflow:\", tf.version.VERSION)\n",
    "print(\"Xarray:\", xarray.__version__)\n",
    "print(\"netCDF4:\", nc.__version__)"
   ]
  },
  {
   "cell_type": "markdown",
   "metadata": {},
   "source": [
    "Note: slightly different versions of the above packages, but worked out of the box for me.  "
   ]
  },
  {
   "cell_type": "code",
   "execution_count": 2,
   "metadata": {},
   "outputs": [],
   "source": [
    "dir_ = \"ncfiles\"\n",
    "kb = 1_024\n",
    "mb = kb * kb"
   ]
  },
  {
   "cell_type": "code",
   "execution_count": 3,
   "metadata": {},
   "outputs": [],
   "source": [
    "def save_dirs(target_size: int, total_size: int, dir_: str):\n",
    "    shutil.rmtree(dir_, ignore_errors=True)\n",
    "    os.makedirs(dir_)\n",
    "    nfiles = int(total_size / target_size)\n",
    "    n = int(target_size / 8)\n",
    "    ds = xarray.DataArray(numpy.random.uniform(size=(n // 64, 64))).to_dataset(name=\"a\")\n",
    "    os.makedirs(dir_, exist_ok=True)\n",
    "\n",
    "    print(\"Data size (MB):\", ds.nbytes/mb)\n",
    "\n",
    "    for i in range(nfiles):\n",
    "        path = os.path.join(dir_, \"{:2d}.nc\".format(i))\n",
    "        ds.to_netcdf(path)"
   ]
  },
  {
   "cell_type": "markdown",
   "metadata": {},
   "source": [
    "We have defiend a save directory function."
   ]
  },
  {
   "cell_type": "markdown",
   "metadata": {},
   "source": [
    "## Loading netCDF files"
   ]
  },
  {
   "cell_type": "markdown",
   "metadata": {},
   "source": [
    "Xarray is the 'middle man' for the netCDF files. While xarray does not have a file format (see xkcd another standard comic) netCDF is the reccomended way for xarray dataset I/O. There has been some talk about trying to bypass xarray to go to zarr directly. Here is some of that discussion: https://discourse.pangeo.io/t/netcdf-to-zarr-best-practices/1119/2 . Generally, I think xarray is worth the overhead! "
   ]
  },
  {
   "cell_type": "code",
   "execution_count": 4,
   "metadata": {},
   "outputs": [],
   "source": [
    "# from generator method\n",
    "def load_nc_dir_with_generator(dir_):\n",
    "    def gen():\n",
    "        for file in glob.glob(os.path.join(dir_, \"*.nc\")):\n",
    "            ds = xarray.open_dataset(file, engine='netcdf4')\n",
    "            yield {key: tf.convert_to_tensor(val) for key, val in ds.items()}\n",
    "\n",
    "\n",
    "    sample = next(iter(gen()))\n",
    "\n",
    "    return tf.data.Dataset.from_generator(\n",
    "        gen,\n",
    "        output_signature={\n",
    "            key: tf.TensorSpec(val.shape, dtype=val.dtype)\n",
    "            for key, val in sample.items()\n",
    "        }\n",
    "    )\n",
    "\n",
    "\n",
    "def load_nc_dir_with_map_and_xarray(dir_):\n",
    "    def open_path(path_tensor: tf.Tensor):\n",
    "        ds = xarray.open_dataset(path_tensor.numpy().decode())\n",
    "        return tf.convert_to_tensor(ds[\"a\"])\n",
    "    return tf.data.Dataset.list_files(os.path.join(dir_, \"*.nc\")).map(\n",
    "        lambda path: tf.py_function(open_path, [path], Tout=tf.float64),\n",
    "        )"
   ]
  },
  {
   "cell_type": "code",
   "execution_count": 5,
   "metadata": {},
   "outputs": [],
   "source": [
    "def load_nc_dir_cached_to_tfrecord(dir_):\n",
    "    \"\"\"Save data to tfRecord, open it, and deserialize\n",
    "    \n",
    "    Note that tfrecords are not that complicated! The simply store some\n",
    "    bytes, and you can serialize data into those bytes however you find\n",
    "    convenient. In this case, I serialie with `tf.io.serialize_tensor` and \n",
    "    deserialize with `tf.io.parse_tensor`. No need for `tf.train.Example` or any\n",
    "    of the other complexities mentioned in the official tutorial.\n",
    "\n",
    "    \"\"\"\n",
    "    generator_tfds = load_nc_dir_with_generator(dir_)\n",
    "    writer = tf.data.experimental.TFRecordWriter(\"local.tfrecord\")\n",
    "    writer.write(generator_tfds.map(lambda x: tf.io.serialize_tensor(x[\"a\"])))\n",
    "\n",
    "    return tf.data.TFRecordDataset(\"local.tfrecord\").map(\n",
    "        lambda x: tf.io.parse_tensor(x, tf.float64))\n",
    "\n",
    "\n",
    "def load_nc_dir_after_save(dir_):\n",
    "    generator_tfds = load_nc_dir_with_generator(dir_)\n",
    "    tf.data.experimental.save(generator_tfds, \"local_ds\")\n",
    "    return tf.data.experimental.load(\"local_ds\")\n"
   ]
  },
  {
   "cell_type": "code",
   "execution_count": 6,
   "metadata": {},
   "outputs": [],
   "source": [
    "def load_nc_dir_cache_to_disk(dir_):\n",
    "    generator_tfds = load_nc_dir_with_generator(dir_)\n",
    "    cached = generator_tfds.cache(f\"{dir_}/.cache\")\n",
    "    list(cached)\n",
    "    return cached\n",
    "    \n",
    "\n",
    "def load_nc_dir_cache_to_mem(dir_):\n",
    "    generator_tfds = load_nc_dir_with_generator(dir_)\n",
    "    cached = generator_tfds.cache()\n",
    "    list(cached)\n",
    "    return cached"
   ]
  },
  {
   "cell_type": "code",
   "execution_count": 7,
   "metadata": {},
   "outputs": [],
   "source": [
    "def load_nc_dir_to_bytes(dir_):\n",
    "    return tf.data.Dataset.list_files(os.path.join(dir_, \"*.nc\")).map(tf.io.read_file)    "
   ]
  },
  {
   "cell_type": "code",
   "execution_count": 8,
   "metadata": {},
   "outputs": [],
   "source": [
    "def get_datasets(dir_):\n",
    "    return dict(\n",
    "        generator = load_nc_dir_with_generator(dir_),\n",
    "        map = load_nc_dir_with_map_and_xarray(dir_),\n",
    "        tfrecord = load_nc_dir_cached_to_tfrecord(dir_),\n",
    "        tf_data_save = load_nc_dir_after_save(dir_),\n",
    "        cache_disk = load_nc_dir_cache_to_disk(dir_),\n",
    "        bytes_only = load_nc_dir_to_bytes(dir_),\n",
    "        cache_mem = load_nc_dir_cache_to_mem(dir_),\n",
    "    )"
   ]
  },
  {
   "cell_type": "code",
   "execution_count": 9,
   "metadata": {},
   "outputs": [
    {
     "name": "stdout",
     "output_type": "stream",
     "text": [
      "Data size (MB): 0.25\n",
      "Data size (MB): 1.0\n",
      "Data size (MB): 3.90625\n",
      "Data size (MB): 7.8125\n",
      "Data size (MB): 15.625\n",
      "Data size (MB): 31.25\n",
      "Working on 256\n",
      "WARNING:tensorflow:From /var/folders/mv/8ltb3p0j0wv_rnz_fytclgxc0000gq/T/ipykernel_19845/1701483157.py:12: TFRecordWriter.__init__ (from tensorflow.python.data.experimental.ops.writers) is deprecated and will be removed in a future version.\n",
      "Instructions for updating:\n",
      "To write TFRecords to disk, use `tf.io.TFRecordWriter`. To save and load the contents of a dataset, use `tf.data.experimental.save` and `tf.data.experimental.load`\n"
     ]
    },
    {
     "name": "stderr",
     "output_type": "stream",
     "text": [
      "2022-08-16 12:56:25.250383: I tensorflow/core/platform/cpu_feature_guard.cc:193] This TensorFlow binary is optimized with oneAPI Deep Neural Network Library (oneDNN) to use the following CPU instructions in performance-critical operations:  AVX2 FMA\n",
      "To enable them in other operations, rebuild TensorFlow with the appropriate compiler flags.\n",
      "2022-08-16 12:56:28.742574: W tensorflow/core/kernels/data/cache_dataset_ops.cc:296] The calling iterator did not fully read the dataset being cached. In order to avoid unexpected truncation of the dataset, the partially cached contents of the dataset  will be discarded. This can happen if you have an input pipeline similar to `dataset.cache().take(k).repeat()`. You should use `dataset.take(k).cache().repeat()` instead.\n"
     ]
    },
    {
     "name": "stdout",
     "output_type": "stream",
     "text": [
      "Working on 1024\n"
     ]
    },
    {
     "name": "stderr",
     "output_type": "stream",
     "text": [
      "2022-08-16 12:56:36.123322: W tensorflow/core/kernels/data/cache_dataset_ops.cc:296] The calling iterator did not fully read the dataset being cached. In order to avoid unexpected truncation of the dataset, the partially cached contents of the dataset  will be discarded. This can happen if you have an input pipeline similar to `dataset.cache().take(k).repeat()`. You should use `dataset.take(k).cache().repeat()` instead.\n"
     ]
    },
    {
     "name": "stdout",
     "output_type": "stream",
     "text": [
      "Working on 4000\n"
     ]
    },
    {
     "name": "stderr",
     "output_type": "stream",
     "text": [
      "2022-08-16 12:56:39.841625: W tensorflow/core/kernels/data/cache_dataset_ops.cc:296] The calling iterator did not fully read the dataset being cached. In order to avoid unexpected truncation of the dataset, the partially cached contents of the dataset  will be discarded. This can happen if you have an input pipeline similar to `dataset.cache().take(k).repeat()`. You should use `dataset.take(k).cache().repeat()` instead.\n"
     ]
    },
    {
     "name": "stdout",
     "output_type": "stream",
     "text": [
      "Working on 8000\n"
     ]
    },
    {
     "name": "stderr",
     "output_type": "stream",
     "text": [
      "2022-08-16 12:56:42.386619: W tensorflow/core/kernels/data/cache_dataset_ops.cc:296] The calling iterator did not fully read the dataset being cached. In order to avoid unexpected truncation of the dataset, the partially cached contents of the dataset  will be discarded. This can happen if you have an input pipeline similar to `dataset.cache().take(k).repeat()`. You should use `dataset.take(k).cache().repeat()` instead.\n"
     ]
    },
    {
     "name": "stdout",
     "output_type": "stream",
     "text": [
      "Working on 16000\n"
     ]
    },
    {
     "name": "stderr",
     "output_type": "stream",
     "text": [
      "2022-08-16 12:56:44.744943: W tensorflow/core/kernels/data/cache_dataset_ops.cc:296] The calling iterator did not fully read the dataset being cached. In order to avoid unexpected truncation of the dataset, the partially cached contents of the dataset  will be discarded. This can happen if you have an input pipeline similar to `dataset.cache().take(k).repeat()`. You should use `dataset.take(k).cache().repeat()` instead.\n"
     ]
    },
    {
     "name": "stdout",
     "output_type": "stream",
     "text": [
      "Working on 32000\n"
     ]
    },
    {
     "name": "stderr",
     "output_type": "stream",
     "text": [
      "2022-08-16 12:56:46.898965: W tensorflow/core/kernels/data/cache_dataset_ops.cc:296] The calling iterator did not fully read the dataset being cached. In order to avoid unexpected truncation of the dataset, the partially cached contents of the dataset  will be discarded. This can happen if you have an input pipeline similar to `dataset.cache().take(k).repeat()`. You should use `dataset.take(k).cache().repeat()` instead.\n"
     ]
    }
   ],
   "source": [
    "import timeit\n",
    "\n",
    "total_size = 128 * mb\n",
    "\n",
    "def show_timings(dir_):\n",
    "    datasets = get_datasets(dir_)\n",
    "    return {\n",
    "        key: timeit.timeit(lambda: list(datasets[key]), number=2) \n",
    "        for key in datasets\n",
    "    }\n",
    "\n",
    "kb_range = [256, 1024, 4000, 8000, 16000, 32000]\n",
    "\n",
    "for kb in kb_range:\n",
    "    save_dirs(kb * 1024, total_size, f\"{dir_}/{kb}\")\n",
    "\n",
    "timings = {}\n",
    "\n",
    "\n",
    "for kb in kb_range:\n",
    "    print(f\"Working on {kb}\")\n",
    "    timings[kb] = show_timings(f\"{dir_}/{kb}\")"
   ]
  },
  {
   "cell_type": "code",
   "execution_count": 10,
   "metadata": {},
   "outputs": [
    {
     "data": {
      "text/plain": [
       "{256: {'generator': 1.9742570879999946,\n",
       "  'map': 1.9524569020000015,\n",
       "  'tfrecord': 0.12045287499999802,\n",
       "  'tf_data_save': 0.1997525260000046,\n",
       "  'cache_disk': 0.235426271999998,\n",
       "  'bytes_only': 0.12361202200000321,\n",
       "  'cache_mem': 0.08752585500000265},\n",
       " 1024: {'generator': 0.6297760269999984,\n",
       "  'map': 0.5865983759999978,\n",
       "  'tfrecord': 0.1240392740000047,\n",
       "  'tf_data_save': 0.1833259790000028,\n",
       "  'cache_disk': 0.20366954099999646,\n",
       "  'bytes_only': 0.2117646190000002,\n",
       "  'cache_mem': 0.029911891000004687},\n",
       " 4000: {'generator': 0.2542604110000042,\n",
       "  'map': 0.22997436699999696,\n",
       "  'tfrecord': 0.1397990990000011,\n",
       "  'tf_data_save': 0.1834590349999985,\n",
       "  'cache_disk': 0.12304614299999628,\n",
       "  'bytes_only': 0.09292961899999597,\n",
       "  'cache_mem': 0.011606730000004006},\n",
       " 8000: {'generator': 0.18456372200000004,\n",
       "  'map': 0.1651248289999998,\n",
       "  'tfrecord': 0.15584218099999703,\n",
       "  'tf_data_save': 0.2278701990000016,\n",
       "  'cache_disk': 0.11570968400000226,\n",
       "  'bytes_only': 0.09102943599999946,\n",
       "  'cache_mem': 0.006335487999997724},\n",
       " 16000: {'generator': 0.13976884099999864,\n",
       "  'map': 0.11943141599999763,\n",
       "  'tfrecord': 0.1494748050000041,\n",
       "  'tf_data_save': 0.22071186700000567,\n",
       "  'cache_disk': 0.10317690100000476,\n",
       "  'bytes_only': 0.09264389200000522,\n",
       "  'cache_mem': 0.009105732000001865},\n",
       " 32000: {'generator': 0.11470621899999855,\n",
       "  'map': 0.10153302799999864,\n",
       "  'tfrecord': 0.17100068999999962,\n",
       "  'tf_data_save': 0.24815711899999826,\n",
       "  'cache_disk': 0.10132282299999673,\n",
       "  'bytes_only': 0.08631929399999905,\n",
       "  'cache_mem': 0.0036897630000041204}}"
      ]
     },
     "execution_count": 10,
     "metadata": {},
     "output_type": "execute_result"
    }
   ],
   "source": [
    "timings\n"
   ]
  },
  {
   "cell_type": "markdown",
   "metadata": {},
   "source": [
    "This plot looks very different than Noah's (exact opposite?), some user error going on."
   ]
  },
  {
   "cell_type": "code",
   "execution_count": 11,
   "metadata": {},
   "outputs": [
    {
     "data": {
      "text/html": [
       "<div>\n",
       "<style scoped>\n",
       "    .dataframe tbody tr th:only-of-type {\n",
       "        vertical-align: middle;\n",
       "    }\n",
       "\n",
       "    .dataframe tbody tr th {\n",
       "        vertical-align: top;\n",
       "    }\n",
       "\n",
       "    .dataframe thead th {\n",
       "        text-align: right;\n",
       "    }\n",
       "</style>\n",
       "<table border=\"1\" class=\"dataframe\">\n",
       "  <thead>\n",
       "    <tr style=\"text-align: right;\">\n",
       "      <th></th>\n",
       "      <th>256</th>\n",
       "      <th>1024</th>\n",
       "      <th>4000</th>\n",
       "      <th>8000</th>\n",
       "      <th>16000</th>\n",
       "      <th>32000</th>\n",
       "    </tr>\n",
       "  </thead>\n",
       "  <tbody>\n",
       "    <tr>\n",
       "      <th>generator</th>\n",
       "      <td>1.974257</td>\n",
       "      <td>0.629776</td>\n",
       "      <td>0.254260</td>\n",
       "      <td>0.184564</td>\n",
       "      <td>0.139769</td>\n",
       "      <td>0.114706</td>\n",
       "    </tr>\n",
       "    <tr>\n",
       "      <th>map</th>\n",
       "      <td>1.952457</td>\n",
       "      <td>0.586598</td>\n",
       "      <td>0.229974</td>\n",
       "      <td>0.165125</td>\n",
       "      <td>0.119431</td>\n",
       "      <td>0.101533</td>\n",
       "    </tr>\n",
       "    <tr>\n",
       "      <th>tfrecord</th>\n",
       "      <td>0.120453</td>\n",
       "      <td>0.124039</td>\n",
       "      <td>0.139799</td>\n",
       "      <td>0.155842</td>\n",
       "      <td>0.149475</td>\n",
       "      <td>0.171001</td>\n",
       "    </tr>\n",
       "    <tr>\n",
       "      <th>tf_data_save</th>\n",
       "      <td>0.199753</td>\n",
       "      <td>0.183326</td>\n",
       "      <td>0.183459</td>\n",
       "      <td>0.227870</td>\n",
       "      <td>0.220712</td>\n",
       "      <td>0.248157</td>\n",
       "    </tr>\n",
       "    <tr>\n",
       "      <th>cache_disk</th>\n",
       "      <td>0.235426</td>\n",
       "      <td>0.203670</td>\n",
       "      <td>0.123046</td>\n",
       "      <td>0.115710</td>\n",
       "      <td>0.103177</td>\n",
       "      <td>0.101323</td>\n",
       "    </tr>\n",
       "    <tr>\n",
       "      <th>bytes_only</th>\n",
       "      <td>0.123612</td>\n",
       "      <td>0.211765</td>\n",
       "      <td>0.092930</td>\n",
       "      <td>0.091029</td>\n",
       "      <td>0.092644</td>\n",
       "      <td>0.086319</td>\n",
       "    </tr>\n",
       "    <tr>\n",
       "      <th>cache_mem</th>\n",
       "      <td>0.087526</td>\n",
       "      <td>0.029912</td>\n",
       "      <td>0.011607</td>\n",
       "      <td>0.006335</td>\n",
       "      <td>0.009106</td>\n",
       "      <td>0.003690</td>\n",
       "    </tr>\n",
       "  </tbody>\n",
       "</table>\n",
       "</div>"
      ],
      "text/plain": [
       "                 256       1024      4000      8000      16000     32000\n",
       "generator     1.974257  0.629776  0.254260  0.184564  0.139769  0.114706\n",
       "map           1.952457  0.586598  0.229974  0.165125  0.119431  0.101533\n",
       "tfrecord      0.120453  0.124039  0.139799  0.155842  0.149475  0.171001\n",
       "tf_data_save  0.199753  0.183326  0.183459  0.227870  0.220712  0.248157\n",
       "cache_disk    0.235426  0.203670  0.123046  0.115710  0.103177  0.101323\n",
       "bytes_only    0.123612  0.211765  0.092930  0.091029  0.092644  0.086319\n",
       "cache_mem     0.087526  0.029912  0.011607  0.006335  0.009106  0.003690"
      ]
     },
     "execution_count": 11,
     "metadata": {},
     "output_type": "execute_result"
    }
   ],
   "source": [
    "df = pd.DataFrame.from_dict(timings)\n",
    "df"
   ]
  },
  {
   "cell_type": "code",
   "execution_count": 12,
   "metadata": {},
   "outputs": [
    {
     "data": {
      "text/plain": [
       "<AxesSubplot:>"
      ]
     },
     "execution_count": 12,
     "metadata": {},
     "output_type": "execute_result"
    },
    {
     "data": {
      "image/png": "[encoded data removed]",
      "text/plain": [
       "<Figure size 432x288 with 1 Axes>"
      ]
     },
     "metadata": {
      "needs_background": "light"
     },
     "output_type": "display_data"
    }
   ],
   "source": [
    "df.plot.bar(grid=True)"
   ]
  },
  {
   "cell_type": "code",
   "execution_count": 13,
   "metadata": {},
   "outputs": [
    {
     "name": "stdout",
     "output_type": "stream",
     "text": [
      "1.13 ms ± 21 µs per loop (mean ± std. dev. of 7 runs, 1,000 loops each)\n"
     ]
    }
   ],
   "source": [
    "read_ds = load_nc_dir_to_bytes(\"ncfiles/256\")\n",
    "item = next(iter(read_ds))\n",
    "\n",
    "def open_bytes(bytes_tensor: tf.Tensor):\n",
    "    nc_bytes = bytes_tensor.numpy()\n",
    "    # syntax from https://unidata.github.io/netcdf4-python/\n",
    "    d = nc.Dataset('dummy.nc', memory=nc_bytes)\n",
    "    return tf.convert_to_tensor(d[\"a\"][:])\n",
    "\n",
    "%timeit  open_bytes(item)"
   ]
  },
  {
   "cell_type": "code",
   "execution_count": 14,
   "metadata": {},
   "outputs": [
    {
     "name": "stdout",
     "output_type": "stream",
     "text": [
      "39.7 µs ± 3.4 µs per loop (mean ± std. dev. of 7 runs, 10,000 loops each)\n"
     ]
    }
   ],
   "source": [
    "# is tensorflow io tensor serialization faster?\n",
    "ds = open_bytes(item)\n",
    "bytes_tensor = tf.io.serialize_tensor(tf.convert_to_tensor(ds))\n",
    "%timeit tf.io.parse_tensor(bytes_tensor, tf.float64)"
   ]
  }
 ],
 "metadata": {
  "kernelspec": {
   "display_name": "Python 3.9.12 ('ml_scratch')",
   "language": "python",
   "name": "python3"
  },
  "language_info": {
   "codemirror_mode": {
    "name": "ipython",
    "version": 3
   },
   "file_extension": ".py",
   "mimetype": "text/x-python",
   "name": "python",
   "nbconvert_exporter": "python",
   "pygments_lexer": "ipython3",
   "version": "3.9.12"
  },
  "orig_nbformat": 4,
  "vscode": {
   "interpreter": {
    "hash": "3538842ee661b57f24cfeaeb491ecfd345bd2dd43fab6b8744c56a63a0fbbd62"
   }
  }
 },
 "nbformat": 4,
 "nbformat_minor": 2
}
